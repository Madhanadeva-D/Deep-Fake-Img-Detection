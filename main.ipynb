{
 "cells": [
  {
   "cell_type": "code",
   "execution_count": 1,
   "metadata": {},
   "outputs": [],
   "source": [
    "import os\n",
    "import tensorflow as tf\n",
    "import keras\n",
    "from tensorflow.keras.models import Sequential\n",
    "from tensorflow.keras.layers import *\n",
    "from tensorflow.keras.layers import Conv2D, MaxPooling2D, Dropout, Flatten, Dense\n",
    "from tensorflow.keras.preprocessing.image import ImageDataGenerator\n",
    "import pandas as pd\n",
    "import matplotlib.pyplot as plt\n",
    "from tensorflow.keras.applications.vgg16 import preprocess_input\n",
    "from tensorflow.keras.applications import Xception\n",
    "from sklearn.metrics import classification_report\n",
    "from tensorflow.keras import Model"
   ]
  },
  {
   "cell_type": "code",
   "execution_count": null,
   "metadata": {},
   "outputs": [],
   "source": [
    "train_data = pd.read_csv(\"/kaggle/input/140k-real-and-fake-faces/train.csv\")\n",
    "test_data  = pd.read_csv(\"/kaggle/input/140k-real-and-fake-faces/test.csv\")\n",
    "validation_data = pd.read_csv(\"/kaggle/input/140k-real-and-fake-faces/valid.csv\")"
   ]
  },
  {
   "cell_type": "code",
   "execution_count": null,
   "metadata": {},
   "outputs": [],
   "source": [
    "path=\"/kaggle/input/140k-real-and-fake-faces/real_vs_fake/real-vs-fake\""
   ]
  },
  {
   "cell_type": "code",
   "execution_count": null,
   "metadata": {},
   "outputs": [],
   "source": [
    "train_image_generator = ImageDataGenerator(rescale=1./255.,preprocessing_function=preprocess_input)\n",
    "\n",
    "train_data_generator = train_image_generator.flow_from_dataframe(\n",
    "    dataframe=train_data,\n",
    "    directory=path,\n",
    "    x_col ='path',\n",
    "    y_col ='label_str',\n",
    "    color_mode=\"rgb\",\n",
    "    target_size=(256, 256),\n",
    "    class_mode=\"binary\",\n",
    "    batch_size=32,\n",
    "    shuffle = True\n",
    ")\n"
   ]
  },
  {
   "cell_type": "code",
   "execution_count": null,
   "metadata": {},
   "outputs": [],
   "source": [
    "validation_image_generator = ImageDataGenerator(rescale=1./255.,preprocessing_function=preprocess_input)\n",
    "test_image_generator = ImageDataGenerator(rescale=1./255.,preprocessing_function=preprocess_input)\n",
    "\n",
    "validation_data_generator = validation_image_generator.flow_from_dataframe(\n",
    "    dataframe=validation_data,\n",
    "    directory=path,\n",
    "    x_col ='path',\n",
    "    y_col ='label_str',\n",
    "    color_mode=\"rgb\",\n",
    "    target_size=(256, 256),\n",
    "    class_mode=\"binary\",\n",
    "    batch_size=32,\n",
    "    shuffle = True\n",
    ")\n",
    "\n",
    "\n",
    "test_data_generator = test_image_generator.flow_from_dataframe(\n",
    "    dataframe=test_data,\n",
    "    directory=path,\n",
    "    x_col ='path',\n",
    "    y_col ='label_str',\n",
    "    color_mode=\"rgb\",\n",
    "    target_size=(256, 256),\n",
    "    class_mode=\"binary\",\n",
    "    batch_size=32,\n",
    "    shuffle = False\n",
    ")\n"
   ]
  },
  {
   "cell_type": "code",
   "execution_count": null,
   "metadata": {},
   "outputs": [],
   "source": [
    "labels = train_data_generator.class_indices\n",
    "class_names = list(labels.keys())\n",
    "print('class names:',class_names)"
   ]
  },
  {
   "cell_type": "code",
   "execution_count": null,
   "metadata": {},
   "outputs": [],
   "source": [
    "import matplotlib.pyplot as plt\n",
    "\n",
    "labels = [\"Train\", \"Validation\", \"Test\"]\n",
    "counts = [len(train_data), len(validation_data), len(test_data)]\n",
    "\n",
    "fig, ax = plt.subplots()\n",
    "ax.pie(counts, labels=labels, autopct=\"%1.1f%%\")\n",
    "ax.set_title(\"Distribution of Images\")\n",
    "plt.show()\n"
   ]
  },
  {
   "cell_type": "code",
   "execution_count": null,
   "metadata": {},
   "outputs": [],
   "source": [
    "import matplotlib.pyplot as plt\n",
    "\n",
    "train_size = len(train_data)\n",
    "validation_size = len(validation_data)\n",
    "test_size = len(test_data)\n",
    "\n",
    "fig, ax = plt.subplots()\n",
    "x = ['Train', 'Validation', 'Test']\n",
    "y = [train_size, validation_size, test_size]\n",
    "ax.bar(x, y)\n",
    "ax.set_xlabel('Dataset')\n",
    "ax.set_ylabel('Number of Images')\n",
    "ax.set_title('Distribution of Images in Each Dataset')\n",
    "\n",
    "plt.show()"
   ]
  },
  {
   "cell_type": "code",
   "execution_count": null,
   "metadata": {},
   "outputs": [],
   "source": [
    "base_model = Xception(weights='imagenet',include_top=False,input_shape=(256, 256, 3))"
   ]
  },
  {
   "cell_type": "code",
   "execution_count": null,
   "metadata": {},
   "outputs": [],
   "source": [
    "for layer in base_model.layers:\n",
    "    layer.trainable = False\n",
    "\n",
    "Xception_model = Sequential()\n",
    "Xception_model.add(base_model)\n",
    "Xception_model.add(Flatten())\n",
    "Xception_model.add(BatchNormalization())\n",
    "Xception_model.add(Dense(256, activation='relu'))\n",
    "Xception_model.add(Dropout(0.5))\n",
    "Xception_model.add(Dense(128, activation='relu'))\n",
    "Xception_model.add(Dropout(0.5))\n",
    "Xception_model.add(BatchNormalization())\n",
    "Xception_model.add(Dense(1, activation='sigmoid'))\n",
    "\n",
    "Xception_model.summary()"
   ]
  },
  {
   "cell_type": "code",
   "execution_count": null,
   "metadata": {},
   "outputs": [],
   "source": [
    "Xception_model.compile(optimizer='adam',loss='binary_crossentropy',metrics=['accuracy'])"
   ]
  },
  {
   "cell_type": "code",
   "execution_count": null,
   "metadata": {},
   "outputs": [],
   "source": [
    "history = Xception_model.fit(train_data_generator ,epochs = 10,validation_data= (validation_data_generator))\n",
    "print(history.history)"
   ]
  },
  {
   "cell_type": "code",
   "execution_count": null,
   "metadata": {},
   "outputs": [],
   "source": [
    "test_loss, test_accuracy = Xception_model.evaluate(test_data_generator)\n",
    "print(f'Loss: {test_loss}, Accuracy: {test_accuracy}')"
   ]
  },
  {
   "cell_type": "code",
   "execution_count": null,
   "metadata": {},
   "outputs": [],
   "source": [
    "# Save your model\n",
    "Xception_model.save('/Deep Img/model_xxeption.keras')"
   ]
  },
  {
   "cell_type": "code",
   "execution_count": null,
   "metadata": {},
   "outputs": [],
   "source": [
    "plt.plot(history.history['loss'], label='train loss')\n",
    "plt.plot(history.history['val_loss'], label='validation loss')\n",
    "plt.legend()\n",
    "plt.show()\n",
    "\n",
    "plt.plot(history.history['accuracy'], label='train accuracy')\n",
    "plt.plot(history.history['val_accuracy'], label='validation accuracy')\n",
    "plt.legend()\n",
    "plt.show()"
   ]
  },
  {
   "cell_type": "code",
   "execution_count": null,
   "metadata": {},
   "outputs": [],
   "source": [
    "import seaborn as sns\n",
    "import matplotlib.pyplot as plt\n",
    "\n",
    "predictions = Xception_model.predict(test_data_generator)\n",
    "predicted_labels = np.where(predictions > 0.5, 1, 0)\n",
    "true_labels = test_data_generator.classes\n",
    "conf_matrix = confusion_matrix(true_labels, predicted_labels)\n",
    "plt.figure(figsize=(8, 6))\n",
    "sns.heatmap(conf_matrix, annot=True, fmt='d', cmap='Blues',\n",
    "            xticklabels=test_data_generator.class_indices,\n",
    "            yticklabels=test_data_generator.class_indices)\n",
    "plt.xlabel('Predicted labels')\n",
    "plt.ylabel('True labels')\n",
    "plt.title('Confusion Matrix')\n",
    "plt.show()\n"
   ]
  },
  {
   "cell_type": "code",
   "execution_count": null,
   "metadata": {},
   "outputs": [],
   "source": [
    "class_names = list(test_data_generator.class_indices.keys())\n",
    "report = classification_report(true_labels, predicted_labels, target_names=class_names)\n",
    "\n",
    "print(\"Classification Report:\")\n",
    "print(report)\n"
   ]
  }
 ],
 "metadata": {
  "kernelspec": {
   "display_name": "Python 3",
   "language": "python",
   "name": "python3"
  },
  "language_info": {
   "codemirror_mode": {
    "name": "ipython",
    "version": 3
   },
   "file_extension": ".py",
   "mimetype": "text/x-python",
   "name": "python",
   "nbconvert_exporter": "python",
   "pygments_lexer": "ipython3",
   "version": "3.10.11"
  }
 },
 "nbformat": 4,
 "nbformat_minor": 2
}
